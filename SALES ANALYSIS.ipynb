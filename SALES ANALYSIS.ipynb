{
 "cells": [
  {
   "cell_type": "code",
   "execution_count": 2,
   "metadata": {},
   "outputs": [],
   "source": [
    "from selenium import webdriver\n",
    "PATH = 'C:\\\\Users\\\\User\\\\Desktop\\\\chromedriver.exe'"
   ]
  },
  {
   "cell_type": "code",
   "execution_count": 3,
   "metadata": {},
   "outputs": [],
   "source": [
    "url = 'https://www.w3schools.com/sql/trysql.asp?filename=trysql_select_all'"
   ]
  },
  {
   "cell_type": "code",
   "execution_count": 4,
   "metadata": {},
   "outputs": [],
   "source": [
    "driver = webdriver.Chrome(PATH)\n",
    "driver.get(url)"
   ]
  },
  {
   "cell_type": "code",
   "execution_count": 5,
   "metadata": {},
   "outputs": [],
   "source": [
    "customers = driver.find_elements_by_class_name('w3-table-all notranslate')\n",
    "customer_list = []\n",
    "for list in customers:\n",
    "    customerID = list.find_element_by_xpath('.//*[@id=\"divResultSQL\"]/div/table/tbody/tr[1]/th[1]').text\n",
    "    CustomerName = list.find_element_by_xpath('.//*[@id=\"divResultSQL\"]/div/table/tbody/tr[1]/th[2]').text\n",
    "    ContactName = list.find_element_by_xpath('.//*[@id=\"divResultSQL\"]/div/table/tbody/tr[1]/th[3]').text\n",
    "    Address = list.find_element_by_xpath('.//*[@id=\"divResultSQL\"]/div/table/tbody/tr[1]/th[4]').text\n",
    "    City = list.find_element_by_xpath('.//*[@id=\"divResultSQL\"]/div/table/tbody/tr[1]/th[5]').text\n",
    "    PostalCode = list.find_element_by_xpath('.//*[@id=\"divResultSQL\"]/div/table/tbody/tr[1]/th[6]').text\n",
    "    Country = list.find_element_by_xpath('.//*[@id=\"divResultSQL\"]/div/table/tbody/tr[1]/th[7]').text"
   ]
  },
  {
   "cell_type": "code",
   "execution_count": 6,
   "metadata": {},
   "outputs": [
    {
     "ename": "NameError",
     "evalue": "name 'customerID' is not defined",
     "output_type": "error",
     "traceback": [
      "\u001b[1;31m---------------------------------------------------------------------------\u001b[0m",
      "\u001b[1;31mNameError\u001b[0m                                 Traceback (most recent call last)",
      "\u001b[1;32m<ipython-input-6-60231786ec9a>\u001b[0m in \u001b[0;36m<module>\u001b[1;34m\u001b[0m\n\u001b[1;32m----> 1\u001b[1;33m customer_table ={'CustomerID': customerID,\n\u001b[0m\u001b[0;32m      2\u001b[0m                  \u001b[1;34m'CustomerName'\u001b[0m\u001b[1;33m:\u001b[0m \u001b[0mCustomerName\u001b[0m\u001b[1;33m,\u001b[0m\u001b[1;33m\u001b[0m\u001b[1;33m\u001b[0m\u001b[0m\n\u001b[0;32m      3\u001b[0m                  \u001b[1;34m'ContactName'\u001b[0m \u001b[1;33m:\u001b[0m \u001b[0mContactName\u001b[0m\u001b[1;33m,\u001b[0m\u001b[1;33m\u001b[0m\u001b[1;33m\u001b[0m\u001b[0m\n\u001b[0;32m      4\u001b[0m                  \u001b[1;34m'Address'\u001b[0m \u001b[1;33m:\u001b[0m \u001b[0mAddress\u001b[0m\u001b[1;33m,\u001b[0m\u001b[1;33m\u001b[0m\u001b[1;33m\u001b[0m\u001b[0m\n\u001b[0;32m      5\u001b[0m                  \u001b[1;34m'City'\u001b[0m \u001b[1;33m:\u001b[0m \u001b[0mCity\u001b[0m\u001b[1;33m,\u001b[0m\u001b[1;33m\u001b[0m\u001b[1;33m\u001b[0m\u001b[0m\n",
      "\u001b[1;31mNameError\u001b[0m: name 'customerID' is not defined"
     ]
    }
   ],
   "source": [
    "customer_table ={'CustomerID': CustomerID,\n",
    "                 'CustomerName': CustomerName,\n",
    "                 'ContactName' : ContactName,\n",
    "                 'Address' : Address,\n",
    "                 'City' : City,\n",
    "                 'PostalCode': PostalCode,\n",
    "                 'Country' : Country\n",
    "                 \n",
    "                 \n",
    "                 \n",
    "    \n",
    "}\n",
    "customer_list.append(customer_table)"
   ]
  },
  {
   "cell_type": "code",
   "execution_count": null,
   "metadata": {},
   "outputs": [],
   "source": [
    "print(customerID, CustomerName,ContactName,Address,City,PostalCode,Country)"
   ]
  },
  {
   "cell_type": "code",
   "execution_count": null,
   "metadata": {},
   "outputs": [],
   "source": [
    "df = pd.DataFrame(customer_list)"
   ]
  }
 ],
 "metadata": {
  "kernelspec": {
   "display_name": "Python 3",
   "language": "python",
   "name": "python3"
  },
  "language_info": {
   "codemirror_mode": {
    "name": "ipython",
    "version": 3
   },
   "file_extension": ".py",
   "mimetype": "text/x-python",
   "name": "python",
   "nbconvert_exporter": "python",
   "pygments_lexer": "ipython3",
   "version": "3.8.3"
  }
 },
 "nbformat": 4,
 "nbformat_minor": 4
}
